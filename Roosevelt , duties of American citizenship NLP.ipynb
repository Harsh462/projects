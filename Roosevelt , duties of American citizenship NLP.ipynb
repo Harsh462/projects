{
 "cells": [
  {
   "cell_type": "markdown",
   "metadata": {},
   "source": [
    "##  Theodore Roosevelt, “Duties of American Citizenship”"
   ]
  },
  {
   "cell_type": "code",
   "execution_count": 1,
   "metadata": {},
   "outputs": [],
   "source": [
    "paragraph = \"\"\"Of course, in one sense, the first essential for a man’s being a good citizen is his\n",
    "               possession of the home virtues of which we think when we call a man by the emphatic \n",
    "               adjective of manly. No man can be a good citizen who is not a good husband and a good\n",
    "               father, who is not honest in his dealings with other men and women, faithful to his \n",
    "               friends and fearless in the presence of his foes, who has not got a sound heart, a\n",
    "               sound mind, and a sound body; exactly as no amount of attention to civil duties will\n",
    "               save a nation if the domestic life is undermined, or there is lack of the rude military\n",
    "               virtues which alone can assure a country’s position in the world. In a free republic the\n",
    "               ideal citizen must be one willing and able to take arms for the defense of the flag, exactly\n",
    "               as the ideal citizen must be the father of many healthy children. A race must be strong and\n",
    "               vigorous; it must be a race of good fighters and good breeders, else its wisdom will come to\n",
    "               naught and its virtue be ineffective; and no sweetness and delicacy, no love for and \n",
    "               appreciation of beauty in art or literature, no capacity for building up material prosperity\n",
    "               can possibly atone for the lack of the great virile virtues.But this is aside from my subject\n",
    "               , for what I wish to talk of is the attitude of the American citizen in civic life. It ought\n",
    "               to be axiomatic in this country that every man must devote a reasonable share of his time to\n",
    "               doing his duty in the Political life of the community. No man has a right to shirk his political\n",
    "               duties under whatever plea of pleasure or business; and while such shirking may be pardoned in those\n",
    "               of small cleans it is entirely unpardonable in those among whom it is most common–in the people whose\n",
    "               circumstances give them freedom in the struggle for life. In so far as the community grows to think rightly,\n",
    "               it will likewise grow to regard the young man of means who shirks his duty to the State in time of peace as\n",
    "               being only one degree worse than the man who thus shirks it in time of war. A great many of our men in\n",
    "               business, or of our young men who are bent on enjoying life (as they have a perfect right to do if only \n",
    "               they do not sacrifice other things to enjoyment), rather plume themselves upon being good citizens if\n",
    "               they even vote; yet voting is the very least of their duties, Nothing worth gaining is ever gained\n",
    "               without effort. You can no more have freedom without striving and suffering for it than you can win success\n",
    "               as a banker or a lawyer without labor and effort, without self-denial in youth and the display of a ready\n",
    "               and alert intelligence in middle age. The people who say that they have not time to attend to politics are\n",
    "               simply saying that they are unfit to live in a free community.\"\"\""
   ]
  },
  {
   "cell_type": "code",
   "execution_count": 2,
   "metadata": {},
   "outputs": [],
   "source": [
    "import nltk\n",
    "import re\n",
    "import pandas as pd\n",
    "import numpy"
   ]
  },
  {
   "cell_type": "code",
   "execution_count": 3,
   "metadata": {},
   "outputs": [],
   "source": [
    "from collections import Counter"
   ]
  },
  {
   "cell_type": "code",
   "execution_count": 4,
   "metadata": {},
   "outputs": [],
   "source": [
    "# checking most frequent words \n",
    "#para = paragraph\n",
    "#para = para.split()\n",
    "#counter = Counter(para)\n",
    "#most_freq = counter.most_common(20)\n"
   ]
  },
  {
   "cell_type": "code",
   "execution_count": 5,
   "metadata": {},
   "outputs": [],
   "source": [
    "#type(para)"
   ]
  },
  {
   "cell_type": "code",
   "execution_count": 32,
   "metadata": {},
   "outputs": [],
   "source": [
    "#most_freq"
   ]
  },
  {
   "cell_type": "code",
   "execution_count": 7,
   "metadata": {},
   "outputs": [],
   "source": [
    "# tokenize sentences ,words \n",
    "# lemmatize\n",
    "#stopwords\n",
    "#most frequent words\n",
    "\n",
    "\n",
    "sentences = nltk.sent_tokenize(paragraph) # tokenizing the paragraph into sentences \n",
    "#words = nltk.word_tokenize(paragraph)  # tokenizing the paragraph into words\n"
   ]
  },
  {
   "cell_type": "code",
   "execution_count": 8,
   "metadata": {},
   "outputs": [
    {
     "data": {
      "text/plain": [
       "10"
      ]
     },
     "execution_count": 8,
     "metadata": {},
     "output_type": "execute_result"
    }
   ],
   "source": [
    "len(sentences)"
   ]
  },
  {
   "cell_type": "code",
   "execution_count": 9,
   "metadata": {},
   "outputs": [],
   "source": [
    "from nltk.stem import WordNetLemmatizer # converting words into their root words\n",
    "from nltk.corpus import stopwords       # to remove stopwords(i.e words which are of not that much importance)\n",
    "lemmatizer = WordNetLemmatizer()\n"
   ]
  },
  {
   "cell_type": "code",
   "execution_count": 10,
   "metadata": {},
   "outputs": [],
   "source": [
    "corpus = []"
   ]
  },
  {
   "cell_type": "code",
   "execution_count": 11,
   "metadata": {},
   "outputs": [],
   "source": [
    "for i in range(0,len(sentences)):\n",
    "    sentence = re.sub('[^a-zA-Z]',' ',sentences[i])\n",
    "    sentence = sentence.lower()\n",
    "    words = sentence.split()\n",
    "    words = [lemmatizer.lemmatize(word) for word in words if not word in set(stopwords.words('english'))]\n",
    "    words = ' '.join(words)\n",
    "    corpus.append(words)\n",
    "    \n",
    "    "
   ]
  },
  {
   "cell_type": "code",
   "execution_count": 12,
   "metadata": {},
   "outputs": [
    {
     "data": {
      "text/plain": [
       "['course one sense first essential man good citizen possession home virtue think call man emphatic adjective manly',\n",
       " 'man good citizen good husband good father honest dealing men woman faithful friend fearless presence foe got sound heart sound mind sound body exactly amount attention civil duty save nation domestic life undermined lack rude military virtue alone assure country position world',\n",
       " 'free republic ideal citizen must one willing able take arm defense flag exactly ideal citizen must father many healthy child',\n",
       " 'race must strong vigorous must race good fighter good breeder else wisdom come naught virtue ineffective sweetness delicacy love appreciation beauty art literature capacity building material prosperity possibly atone lack great virile virtue aside subject wish talk attitude american citizen civic life',\n",
       " 'ought axiomatic country every man must devote reasonable share time duty political life community',\n",
       " 'man right shirk political duty whatever plea pleasure business shirking may pardoned small clean entirely unpardonable among common people whose circumstance give freedom struggle life',\n",
       " 'far community grows think rightly likewise grow regard young man mean shirks duty state time peace one degree worse man thus shirks time war',\n",
       " 'great many men business young men bent enjoying life perfect right sacrifice thing enjoyment rather plume upon good citizen even vote yet voting least duty nothing worth gaining ever gained without effort',\n",
       " 'freedom without striving suffering win success banker lawyer without labor effort without self denial youth display ready alert intelligence middle age',\n",
       " 'people say time attend politics simply saying unfit live free community']"
      ]
     },
     "execution_count": 12,
     "metadata": {},
     "output_type": "execute_result"
    }
   ],
   "source": [
    "corpus"
   ]
  },
  {
   "cell_type": "code",
   "execution_count": 13,
   "metadata": {},
   "outputs": [],
   "source": [
    "#len(corpus)"
   ]
  },
  {
   "cell_type": "code",
   "execution_count": 14,
   "metadata": {},
   "outputs": [],
   "source": [
    "#type(sentence)"
   ]
  },
  {
   "cell_type": "code",
   "execution_count": 17,
   "metadata": {},
   "outputs": [],
   "source": [
    "# converting text into sparse matrix using bag of words\n",
    "from sklearn.feature_extraction.text import CountVectorizer\n",
    "cv = CountVectorizer()\n",
    "mat_cv = cv.fit_transform(corpus)"
   ]
  },
  {
   "cell_type": "code",
   "execution_count": 24,
   "metadata": {},
   "outputs": [
    {
     "data": {
      "text/plain": [
       "array([[0, 1, 0, ..., 0, 0, 0],\n",
       "       [0, 0, 0, ..., 0, 0, 0],\n",
       "       [1, 0, 0, ..., 0, 0, 0],\n",
       "       ...,\n",
       "       [0, 0, 0, ..., 1, 1, 0],\n",
       "       [0, 0, 1, ..., 0, 0, 1],\n",
       "       [0, 0, 0, ..., 0, 0, 0]], dtype=int64)"
      ]
     },
     "execution_count": 24,
     "metadata": {},
     "output_type": "execute_result"
    }
   ],
   "source": [
    "mat_cv"
   ]
  },
  {
   "cell_type": "code",
   "execution_count": 25,
   "metadata": {},
   "outputs": [],
   "source": [
    "# COnverting text into numerics using tf-idf \n",
    "from sklearn.feature_extraction.text import TfidfVectorizer\n",
    "tfidf  =TfidfVectorizer()\n",
    "mat_tfidf = tfidf.fit_transform(corpus)"
   ]
  },
  {
   "cell_type": "code",
   "execution_count": 28,
   "metadata": {},
   "outputs": [
    {
     "data": {
      "text/plain": [
       "array([[0.        , 0.26698237, 0.        , ..., 0.        , 0.        ,\n",
       "        0.        ],\n",
       "       [0.        , 0.        , 0.        , ..., 0.        , 0.        ,\n",
       "        0.        ],\n",
       "       [0.22323441, 0.        , 0.        , ..., 0.        , 0.        ,\n",
       "        0.        ],\n",
       "       ...,\n",
       "       [0.        , 0.        , 0.        , ..., 0.18750047, 0.15939253,\n",
       "        0.        ],\n",
       "       [0.        , 0.        , 0.20434048, ..., 0.        , 0.        ,\n",
       "        0.20434048],\n",
       "       [0.        , 0.        , 0.        , ..., 0.        , 0.        ,\n",
       "        0.        ]])"
      ]
     },
     "execution_count": 28,
     "metadata": {},
     "output_type": "execute_result"
    }
   ],
   "source": [
    "mat_tfidf.toarray()"
   ]
  },
  {
   "cell_type": "markdown",
   "metadata": {},
   "source": [
    "### tf-idf vectorizer is much better than countvectorizer, as latter one dont give the sentoment weightage to the words (i.e Suppose there are 2 words which are occuring for the same no.of times in the sparse matrix ,then it would be very difficult to understand the weightage of that word ,to overcome such abruption we use tf idf )."
   ]
  },
  {
   "cell_type": "code",
   "execution_count": null,
   "metadata": {},
   "outputs": [],
   "source": []
  }
 ],
 "metadata": {
  "kernelspec": {
   "display_name": "Python 3",
   "language": "python",
   "name": "python3"
  },
  "language_info": {
   "codemirror_mode": {
    "name": "ipython",
    "version": 3
   },
   "file_extension": ".py",
   "mimetype": "text/x-python",
   "name": "python",
   "nbconvert_exporter": "python",
   "pygments_lexer": "ipython3",
   "version": "3.7.3"
  }
 },
 "nbformat": 4,
 "nbformat_minor": 2
}
